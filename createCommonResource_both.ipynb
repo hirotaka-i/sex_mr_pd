{
 "cells": [
  {
   "cell_type": "markdown",
   "id": "fe603083-937a-4a50-868c-25155ea751a1",
   "metadata": {},
   "source": [
    "# This is to prepare the both_sexes IPDGC summarystats\n",
    "[Reference this](https://github.com/neurogenetics/Autosomal-sex-differences-PDv2/blob/main/Meta%20analyses%20of%20Results.md)\n",
    "\n",
    "METAL output was joined with HRC hg19 no_multi_allelic REF ALT. \n",
    "\n",
    "Filter: MixFreq>0.01, MaxFreq<0.99 HetDF > 2/3 * max(HetDF)"
   ]
  },
  {
   "cell_type": "code",
   "execution_count": 86,
   "id": "c137e406-d0dc-4505-ac9b-d13acaa118f3",
   "metadata": {},
   "outputs": [],
   "source": [
    "library(data.table)\n",
    "library(tidyverse)"
   ]
  },
  {
   "cell_type": "code",
   "execution_count": 31,
   "id": "44d31cd7-49d7-4072-9128-870092ba16ae",
   "metadata": {},
   "outputs": [
    {
     "data": {
      "text/html": [
       "<style>\n",
       ".list-inline {list-style: none; margin:0; padding: 0}\n",
       ".list-inline>li {display: inline-block}\n",
       ".list-inline>li:not(:last-child)::after {content: \"\\00b7\"; padding: 0 .5ex}\n",
       "</style>\n",
       "<ol class=list-inline><li>17409785</li><li>15</li></ol>\n"
      ],
      "text/latex": [
       "\\begin{enumerate*}\n",
       "\\item 17409785\n",
       "\\item 15\n",
       "\\end{enumerate*}\n"
      ],
      "text/markdown": [
       "1. 17409785\n",
       "2. 15\n",
       "\n",
       "\n"
      ],
      "text/plain": [
       "[1] 17409785       15"
      ]
     },
     "metadata": {},
     "output_type": "display_data"
    },
    {
     "data": {
      "text/html": [
       "<style>\n",
       ".list-inline {list-style: none; margin:0; padding: 0}\n",
       ".list-inline>li {display: inline-block}\n",
       ".list-inline>li:not(:last-child)::after {content: \"\\00b7\"; padding: 0 .5ex}\n",
       "</style>\n",
       "<ol class=list-inline><li>33619058</li><li>4</li></ol>\n"
      ],
      "text/latex": [
       "\\begin{enumerate*}\n",
       "\\item 33619058\n",
       "\\item 4\n",
       "\\end{enumerate*}\n"
      ],
      "text/markdown": [
       "1. 33619058\n",
       "2. 4\n",
       "\n",
       "\n"
      ],
      "text/plain": [
       "[1] 33619058        4"
      ]
     },
     "metadata": {},
     "output_type": "display_data"
    },
    {
     "data": {
      "text/html": [
       "<style>\n",
       ".list-inline {list-style: none; margin:0; padding: 0}\n",
       ".list-inline>li {display: inline-block}\n",
       ".list-inline>li:not(:last-child)::after {content: \"\\00b7\"; padding: 0 .5ex}\n",
       "</style>\n",
       "<ol class=list-inline><li>17439466</li><li>18</li></ol>\n"
      ],
      "text/latex": [
       "\\begin{enumerate*}\n",
       "\\item 17439466\n",
       "\\item 18\n",
       "\\end{enumerate*}\n"
      ],
      "text/markdown": [
       "1. 17439466\n",
       "2. 18\n",
       "\n",
       "\n"
      ],
      "text/plain": [
       "[1] 17439466       18"
      ]
     },
     "metadata": {},
     "output_type": "display_data"
    },
    {
     "data": {
      "text/html": [
       "<style>\n",
       ".list-inline {list-style: none; margin:0; padding: 0}\n",
       ".list-inline>li {display: inline-block}\n",
       ".list-inline>li:not(:last-child)::after {content: \"\\00b7\"; padding: 0 .5ex}\n",
       "</style>\n",
       "<ol class=list-inline><li>6706231</li><li>18</li></ol>\n"
      ],
      "text/latex": [
       "\\begin{enumerate*}\n",
       "\\item 6706231\n",
       "\\item 18\n",
       "\\end{enumerate*}\n"
      ],
      "text/markdown": [
       "1. 6706231\n",
       "2. 18\n",
       "\n",
       "\n"
      ],
      "text/plain": [
       "[1] 6706231      18"
      ]
     },
     "metadata": {},
     "output_type": "display_data"
    }
   ],
   "source": [
    "d = fread('/data/CARD/PD/summary_stats/META5_no23noUKBB.tbl.gz') %>%\n",
    "    mutate(MarkerName=sub('chr', '', MarkerName))\n",
    "RS=fread('/data/CARD/GENERAL/HRC_RS_conversion_final.txt') %>%\n",
    "    rename(MarkerName=POS)\n",
    "dt = left_join(d, RS, by='MarkerName')\n",
    "dim(d)\n",
    "dim(RS)\n",
    "dim(dt)\n",
    "\n",
    "dtf = dt %>% \n",
    "    filter(MinFreq>0.01, MaxFreq<0.99, HetDf>6) %>% # HetDf = max 11 * 2/3 floor\n",
    "    arrange(MarkerName)\n",
    "\n",
    "dim(dtf)\n",
    "\n",
    "fwrite(dtf, \n",
    "       '/data/CARD/projects/sexMRforPD/common/BOTH_SEXES_PD_filtered_sumstats_NO_UKB_AT_ALL_no_multi_allelics.txt', \n",
    "       sep='\\t')"
   ]
  },
  {
   "cell_type": "code",
   "execution_count": 87,
   "id": "d1fe2a45-1bf2-44f8-bbc0-a2789d885af3",
   "metadata": {},
   "outputs": [
    {
     "data": {
      "text/html": [
       "<style>\n",
       ".list-inline {list-style: none; margin:0; padding: 0}\n",
       ".list-inline>li {display: inline-block}\n",
       ".list-inline>li:not(:last-child)::after {content: \"\\00b7\"; padding: 0 .5ex}\n",
       "</style>\n",
       "<ol class=list-inline><li>6586565</li><li>19</li></ol>\n"
      ],
      "text/latex": [
       "\\begin{enumerate*}\n",
       "\\item 6586565\n",
       "\\item 19\n",
       "\\end{enumerate*}\n"
      ],
      "text/markdown": [
       "1. 6586565\n",
       "2. 19\n",
       "\n",
       "\n"
      ],
      "text/plain": [
       "[1] 6586565      19"
      ]
     },
     "metadata": {},
     "output_type": "display_data"
    },
    {
     "data": {
      "text/html": [
       "<style>\n",
       ".list-inline {list-style: none; margin:0; padding: 0}\n",
       ".list-inline>li {display: inline-block}\n",
       ".list-inline>li:not(:last-child)::after {content: \"\\00b7\"; padding: 0 .5ex}\n",
       "</style>\n",
       "<ol class=list-inline><li>6582857</li><li>28</li></ol>\n"
      ],
      "text/latex": [
       "\\begin{enumerate*}\n",
       "\\item 6582857\n",
       "\\item 28\n",
       "\\end{enumerate*}\n"
      ],
      "text/markdown": [
       "1. 6582857\n",
       "2. 28\n",
       "\n",
       "\n"
      ],
      "text/plain": [
       "[1] 6582857      28"
      ]
     },
     "metadata": {},
     "output_type": "display_data"
    },
    {
     "data": {
      "text/plain": [
       "\n",
       "      0       1 \n",
       "3558782 3024075 "
      ]
     },
     "metadata": {},
     "output_type": "display_data"
    }
   ],
   "source": [
    "# create files for analysis \n",
    "d = dtf %>% \n",
    "    mutate(FreqDiff = MaxFreq - MinFreq) %>%\n",
    "    filter(!is.na(ID), FreqDiff<0.15, HetISq<80, Effect<5, StdErr<5)\n",
    "dim(d)\n",
    "\n",
    "dt = d %>% \n",
    "    mutate(flip = case_when(\n",
    "        (REF==toupper(Allele2))&(ALT==toupper(Allele1)) ~ 0,\n",
    "        (REF==toupper(Allele1))&(ALT==toupper(Allele2)) ~ 1\n",
    "    )) %>%\n",
    "    mutate(\n",
    "        SNP=ID,\n",
    "        A1=ALT,\n",
    "        A2=REF,\n",
    "        freq=case_when(flip==0~Freq1, flip==1~1-Freq1),\n",
    "        b=case_when(flip==0~Effect, flip==1~-Effect),\n",
    "        se=StdErr,\n",
    "        p=`P-value`,\n",
    "        N = 43826\n",
    "    ) %>%\n",
    "    filter(!is.na(flip)) # remove unbigous variants\n",
    "\n",
    "dim(dt)\n",
    "table(dt$flip)\n",
    "\n",
    "dt %>% filter(`P-value`<5e-8) %>% select(ID) %>%\n",
    "    fwrite(., '/data/CARD/projects/sexMRforPD/common/both_sexes_pd_iv_5e8.txt', sep='\\t', col.names = F)\n",
    "dt %>% filter(`P-value`<1e-4) %>% select(ID) %>%\n",
    "    fwrite(., '/data/CARD/projects/sexMRforPD/common/both_sexes_pd_iv_1e4.txt', sep='\\t', col.names = F)\n",
    "fwrite(dt[,c('SNP', 'A1', 'A2', 'freq', 'b', 'se', 'p', 'N')],\n",
    "       '/data/CARD/projects/sexMRforPD/common/both_sexes_pd_gsmr.raw', sep='\\t')\n",
    "\n",
    "dt2 = dt %>% separate(MarkerName, sep=':', into=c('chr', 'BP')) %>%\n",
    "    rename(beta=b, pvalue=p)\n",
    "fwrite(dt2[,c('SNP', 'chr', 'BP', 'A1', 'A2', 'beta', 'se', 'pvalue')],\n",
    "       '/data/CARD/projects/sexMRforPD/common/both_sexes_pd_mrldp.raw', sep='\\t')"
   ]
  },
  {
   "cell_type": "code",
   "execution_count": 74,
   "id": "cfcf3253-ac57-49c6-a38d-035cecc5b4e0",
   "metadata": {},
   "outputs": [],
   "source": []
  },
  {
   "cell_type": "code",
   "execution_count": 75,
   "id": "eeda61fa-0610-42a5-82c8-89cdef14aae2",
   "metadata": {},
   "outputs": [],
   "source": []
  },
  {
   "cell_type": "code",
   "execution_count": 80,
   "id": "c88f5dde-390c-4c51-a2c5-f13b79238db6",
   "metadata": {},
   "outputs": [],
   "source": [
    "\n"
   ]
  },
  {
   "cell_type": "code",
   "execution_count": 81,
   "id": "b9432637-c64d-4c48-b491-7f8dfb51a32d",
   "metadata": {},
   "outputs": [],
   "source": []
  },
  {
   "cell_type": "code",
   "execution_count": null,
   "id": "d70be702-8e2b-4592-87e1-abde99f0c82b",
   "metadata": {},
   "outputs": [],
   "source": []
  }
 ],
 "metadata": {
  "kernelspec": {
   "display_name": "R/4.0",
   "language": "R",
   "name": "ir40"
  },
  "language_info": {
   "codemirror_mode": "r",
   "file_extension": ".r",
   "mimetype": "text/x-r-source",
   "name": "R",
   "pygments_lexer": "r",
   "version": "4.0.5"
  }
 },
 "nbformat": 4,
 "nbformat_minor": 5
}
